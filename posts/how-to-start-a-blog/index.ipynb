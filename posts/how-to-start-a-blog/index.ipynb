{
 "cells": [
  {
   "cell_type": "raw",
   "metadata": {
    "vscode": {
     "languageId": "raw"
    }
   },
   "source": [
    "---\n",
    "title: \"How to Start a Blog\"\n",
    "author: \"Henry Ker\"\n",
    "date: \"2024-05-03\"\n",
    "categories: [walkthrough]\n",
    "---"
   ]
  },
  {
   "cell_type": "markdown",
   "metadata": {},
   "source": [
    "## Blogging for Back-end Devs\n",
    "I'll be honest with you: I have no clue what front-end developers do. I think it involves JavaScript, and some form of HTML voodoo, and thumb wrestling with reactive layouts that just won't react right. Luckily, when I set out to create this blog, a friend put me on to Quarto! Quarto is an amazing tool that lets you create beautiful blogs (and presentations, and books!) without having to leave your cozy jupyter notebook environment. There are of course simpler ways to create a blog (shout-out WordPress), but I wanted to be able to include runable code in my posts and have more control over format.\n",
    "\n",
    "This post describes the steps I took to create and publish this blog. For the sake of brevity, I'll gloss over the exact blow-by-blow and focus on broader steps. I assume that you are fairly comfortable knocking around a jupyter notebook, installing packages and all that (if not, I'm sure google can get you started). I used VS Code for this project, but I believe Quarto integrates well with a wide range of environments."
   ]
  },
  {
   "cell_type": "markdown",
   "metadata": {},
   "source": [
    "## Creating the Blog\n",
    "Quarto has great documentation, I won't waste pixels repeating it here. I followed their [VS Code Quick Start](https://quarto.org/docs/get-started/) guide far enough to see the sample page rendering, then jumped right into their [Creating a Blog](https://quarto.org/docs/websites/website-blog.html) guide. Their system is very slick; once you have the project folder created, you can just create a new folder under posts, toss a index.ipynb or index.qmd in there (I stuck with notebooks), and you have a new post. Set the first cell of the notebook to raw text, rather than code or markdown, and paste in their special header (example below is the header for this post!)"
   ]
  },
  {
   "cell_type": "markdown",
   "metadata": {
    "vscode": {
     "languageId": "raw"
    }
   },
   "source": [
    "<pre>\n",
    "---\n",
    "title: \"How to Start a Blog\"\n",
    "author: \"Henry Ker\"\n",
    "date: \"2024-05-03\"\n",
    "categories: [walkthrough]\n",
    "---\n",
    "</pre>"
   ]
  },
  {
   "cell_type": "markdown",
   "metadata": {},
   "source": [
    "Quarto will automagically pull this information to add the post to your home page. You can also embed an image in your notebook (ala their example posts) to accompany the post title. You can preview the blog using VS Codes >**Quarto: Preview** command on the index.qmd in your main project directory. You should see your new notebook as a post alongside their example posts, with everything already formatted nicely and linked up. At this point, you have a blog! I made a couple more changes, but if you're happy with their defaults (and to be honest they are quite servicable), feel free to skip Customization and jump right to Publishing with Github Pages."
   ]
  },
  {
   "cell_type": "markdown",
   "metadata": {},
   "source": [
    "## Customization"
   ]
  },
  {
   "cell_type": "markdown",
   "metadata": {},
   "source": [
    "## Publishing with GitHub Pages\n",
    "I chose GitHub pages to publish this blog. It's simple, free, and enables a very familiar git based workflow. Quarto lists a number of [other options](https://quarto.org/docs/publishing/) if you feel you need fancier capabilities or you like spending money.\n",
    "\n",
    "Quarto  already has a great walkthrough on [publishing with GitHub Pages](https://quarto.org/docs/publishing/github-pages.html). I found the order of steps for this process to be a little less straightforward, so I'll share my exact steps below.\n",
    "\n",
    "First, initialize a git repository for your blog project (if you've never done this before, [this VS Code guide](https://code.visualstudio.com/docs/sourcecontrol/intro-to-git) should get you started). The repo needs to be public in order to use github pages if you're using the free version of github. \n",
    "\n",
    "Before you publish, add `/_site/` to the new .gitignore file under `/.quarto/`. Also add\n",
    "```\n",
    "execute:\n",
    "  freeze: auto\n",
    "```\n",
    "at the end of the _quarto.yml file.\n",
    "\n",
    "Now you can publish your project to github.\n",
    "\n",
    "Next, navigate to your new repository on GitHub's website, and under Settings/Pages set branch to gh-pages. continue to Settings/Actions/General, tick the bubble next to \"Read and write permissions\" under Workflow permissions, and save. \n",
    "\n",
    "At this point, we can render the site with VS Code command **>Quarto: Render**, then publish by running in a terminal `quarto publish gh-pages`\n",
    "\n",
    "Next, create a github action YAML file by copying the below text and saving it to .github/workflows/publish.yaml in your project directory.\n"
   ]
  },
  {
   "cell_type": "markdown",
   "metadata": {},
   "source": [
    "<pre>\n",
    "on:\n",
    "  workflow_dispatch:\n",
    "  push:\n",
    "    branches: main\n",
    "\n",
    "name: Quarto Publish\n",
    "\n",
    "jobs:\n",
    "  build-deploy:\n",
    "    runs-on: ubuntu-latest\n",
    "    permissions:\n",
    "      contents: write\n",
    "    steps:\n",
    "      - name: Check out repository\n",
    "        uses: actions/checkout@v4\n",
    "\n",
    "      - name: Set up Quarto\n",
    "        uses: quarto-dev/quarto-actions/setup@v2\n",
    "\n",
    "      - name: Render and Publish\n",
    "        uses: quarto-dev/quarto-actions/publish@v2\n",
    "        with:\n",
    "          target: gh-pages\n",
    "        env:\n",
    "          GITHUB_TOKEN: ${{ secrets.GITHUB_TOKEN }}\n",
    "</pre>"
   ]
  },
  {
   "cell_type": "markdown",
   "metadata": {},
   "source": [
    "## Why to Start a Blog\n",
    "I hope you find this post useful, but I must admit: I created it as much for my own benefit as yours! A very wise man once said that \"The only difference between screwing around and science is writing it down.\" I plan to use this blog to document and catalog any interesting projects I happen into, as an upgrade to my old \"sticky note scribbles\" system. "
   ]
  },
  {
   "cell_type": "markdown",
   "metadata": {},
   "source": []
  }
 ],
 "metadata": {
  "kernelspec": {
   "display_name": ".venv",
   "language": "python",
   "name": "python3"
  },
  "language_info": {
   "codemirror_mode": {
    "name": "ipython",
    "version": 3
   },
   "file_extension": ".py",
   "mimetype": "text/x-python",
   "name": "python",
   "nbconvert_exporter": "python",
   "pygments_lexer": "ipython3",
   "version": "3.10.11"
  }
 },
 "nbformat": 4,
 "nbformat_minor": 2
}
